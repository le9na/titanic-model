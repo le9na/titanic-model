{
  "nbformat": 4,
  "nbformat_minor": 0,
  "metadata": {
    "colab": {
      "provenance": []
    },
    "kernelspec": {
      "name": "python3",
      "display_name": "Python 3"
    },
    "language_info": {
      "name": "python"
    }
  },
  "cells": [
    {
      "cell_type": "markdown",
      "source": [
        "# Titanic - Machine Learning"
      ],
      "metadata": {
        "id": "fJllAEdnLzHY"
      }
    },
    {
      "cell_type": "markdown",
      "source": [
        "This project aims to introduce the most important steps of data analysis and explore the different stages. We will use the data of Titanic survivors available on the Kaggle website at the following link:\n",
        "https://www.kaggle.com/competitions/titanic/overview\n",
        "\n",
        "You can download the dataset and explore all the information about it in the following link: https://www.kaggle.com/competitions/titanic/data"
      ],
      "metadata": {
        "id": "23qsq5sDL_nC"
      }
    },
    {
      "cell_type": "markdown",
      "source": [
        "Note: To complete this projct, you need to modify the cells that contain the code below before submitting the project. All other cells should remain unchanged without any modifications.\n",
        "\n",
        "############################ <br>\n",
        "أكمل الكود <br>\n",
        "Complete the code <br>\n",
        "############################ <br>"
      ],
      "metadata": {
        "id": "p-v5KaJZPbvm"
      }
    },
    {
      "cell_type": "markdown",
      "source": [
        "## Importing the Dependencies"
      ],
      "metadata": {
        "id": "E86z4W-fNRkA"
      }
    },
    {
      "cell_type": "code",
      "source": [
        "import numpy as np\n",
        "import pandas as pd\n",
        "import matplotlib.pyplot as plt\n",
        "import seaborn as sns\n",
        "\n",
        "from sklearn.model_selection import train_test_split\n",
        "from sklearn.linear_model import LogisticRegression\n",
        "from sklearn.metrics import accuracy_score"
      ],
      "metadata": {
        "id": "3UV9a52tNPWP"
      },
      "execution_count": null,
      "outputs": []
    },
    {
      "cell_type": "markdown",
      "source": [
        "## Reading the data\n"
      ],
      "metadata": {
        "id": "Imj-Udf5N5k_"
      }
    },
    {
      "cell_type": "markdown",
      "source": [
        "We will first use `pd.read_csv` to load the data from csv file to Pandas DataFrame:"
      ],
      "metadata": {
        "id": "94vLT17oOMfe"
      }
    },
    {
      "cell_type": "code",
      "source": [
        "data = pd.read_csv('/content/train.csv')"
      ],
      "metadata": {
        "id": "KXw6K3tTOL_h"
      },
      "execution_count": null,
      "outputs": []
    },
    {
      "cell_type": "markdown",
      "source": [
        "After reading the data, we will now review the data to ensure it has been read correctly by using the command `head`:"
      ],
      "metadata": {
        "id": "mm3GuQCcOUzG"
      }
    },
    {
      "cell_type": "code",
      "source": [
        "#this will print first 5 rows in the dataset\n",
        "data.head()"
      ],
      "metadata": {
        "id": "eyqBM9dhOhAY"
      },
      "execution_count": null,
      "outputs": []
    },
    {
      "cell_type": "code",
      "source": [
        "# number of rows and columns\n",
        "data.shape"
      ],
      "metadata": {
        "id": "mkzj9Ye0q5e3"
      },
      "execution_count": null,
      "outputs": []
    },
    {
      "cell_type": "markdown",
      "source": [
        "## Data Preprocessing"
      ],
      "metadata": {
        "id": "tu1feHO3QjAq"
      }
    },
    {
      "cell_type": "markdown",
      "source": [
        "Now we will use the info command to learn more about the data, such as the number of rows and columns, data types, and the number of missing values."
      ],
      "metadata": {
        "id": "8k6Fg5dDRT68"
      }
    },
    {
      "cell_type": "code",
      "source": [
        "data.info()"
      ],
      "metadata": {
        "colab": {
          "base_uri": "https://localhost:8080/"
        },
        "id": "Gw5WmQf1Qgzx",
        "outputId": "faf3a9f1-2527-4810-eaed-8afcd2f28c9e"
      },
      "execution_count": null,
      "outputs": [
        {
          "output_type": "stream",
          "name": "stdout",
          "text": [
            "<class 'pandas.core.frame.DataFrame'>\n",
            "RangeIndex: 891 entries, 0 to 890\n",
            "Data columns (total 12 columns):\n",
            " #   Column       Non-Null Count  Dtype  \n",
            "---  ------       --------------  -----  \n",
            " 0   PassengerId  891 non-null    int64  \n",
            " 1   Survived     891 non-null    int64  \n",
            " 2   Pclass       891 non-null    int64  \n",
            " 3   Name         891 non-null    object \n",
            " 4   Sex          891 non-null    object \n",
            " 5   Age          714 non-null    float64\n",
            " 6   SibSp        891 non-null    int64  \n",
            " 7   Parch        891 non-null    int64  \n",
            " 8   Ticket       891 non-null    object \n",
            " 9   Fare         891 non-null    float64\n",
            " 10  Cabin        204 non-null    object \n",
            " 11  Embarked     889 non-null    object \n",
            "dtypes: float64(2), int64(5), object(5)\n",
            "memory usage: 83.7+ KB\n"
          ]
        }
      ]
    },
    {
      "cell_type": "markdown",
      "source": [
        "### Dealing with Missing Data"
      ],
      "metadata": {
        "id": "eg8ZlJXydiGF"
      }
    },
    {
      "cell_type": "code",
      "source": [
        "# to view the Missing valuse in each column:\n",
        "data.isnull().sum()"
      ],
      "metadata": {
        "id": "MTmtZyO-eKeu"
      },
      "execution_count": null,
      "outputs": []
    },
    {
      "cell_type": "markdown",
      "source": [
        "You have three options to fix this:\n",
        "\n",
        "*   Delete rows that contains missing valuse\n",
        "*   Delete the whole column that contains missing values\n",
        "*   Replace missing values with some value (Mean, Median, Mode, constant)\n",
        "\n",
        "\n",
        "\n",
        "\n",
        "\n"
      ],
      "metadata": {
        "id": "QQkE4ciCgsTa"
      }
    },
    {
      "cell_type": "markdown",
      "source": [
        "There are three columns contains Missing values: **Age, Cabin, Embarked**. <br>\n",
        "In the Age column, we will fill the missing values with the mean since it is a simple and quick method to handle missing data and helps maintain the overall distribution of the dataset."
      ],
      "metadata": {
        "id": "MLZUqOrxh7ok"
      }
    },
    {
      "cell_type": "code",
      "source": [
        "############################\n",
        "#أكمل الكود\n",
        "#Complete the code\n",
        "############################\n",
        "\n",
        "#fill the missing values in Age with the mean of Age column\n",
        "#you can simply use 'filllna' function, or any other way such as SimpleImputer\n",
        "\n",
        "data['Age'] = data['Age'].fillna(data['Age'].mean())\n",
        "\n"
      ],
      "metadata": {
        "id": "6AgyJ6DEjaKc"
      },
      "execution_count": null,
      "outputs": []
    },
    {
      "cell_type": "code",
      "source": [
        "data['Age'].isnull().sum()"
      ],
      "metadata": {
        "id": "cBtBc-HUj28y"
      },
      "execution_count": null,
      "outputs": []
    },
    {
      "cell_type": "markdown",
      "source": [
        "There are a large number of missing values in the Cabin column, so we will drop this column from the dataset."
      ],
      "metadata": {
        "id": "40pi536tkPPH"
      }
    },
    {
      "cell_type": "code",
      "source": [
        "data = data.drop(['Cabin'], axis=1)"
      ],
      "metadata": {
        "id": "ip_B6VqOksUO"
      },
      "execution_count": null,
      "outputs": []
    },
    {
      "cell_type": "code",
      "source": [
        "data.head()"
      ],
      "metadata": {
        "id": "DCpCC8ggk3nu"
      },
      "execution_count": null,
      "outputs": []
    },
    {
      "cell_type": "markdown",
      "source": [
        "In the Embarked column, there are only two missing values. Let's see what the categories in this column are."
      ],
      "metadata": {
        "id": "_1Xp5fmjk_kV"
      }
    },
    {
      "cell_type": "code",
      "source": [
        "data['Embarked'].value_counts()"
      ],
      "metadata": {
        "id": "Apl5phzEmYjg"
      },
      "execution_count": null,
      "outputs": []
    },
    {
      "cell_type": "code",
      "source": [
        "############################\n",
        "#أكمل الكود\n",
        "#Complete the code\n",
        "############################\n",
        "\n",
        "#fill the missing values in Embarked with the mode of Embarked column:\n",
        "\n",
        "\n",
        "data['Embarked'] = data['Embarked'].fillna(data['Embarked'].mode())\n",
        "\n"
      ],
      "metadata": {
        "id": "uEcN0y09lZmF"
      },
      "execution_count": null,
      "outputs": []
    },
    {
      "cell_type": "code",
      "source": [
        "data['Embarked'].isnull().sum()"
      ],
      "metadata": {
        "id": "RyYeYgfGm5WE"
      },
      "execution_count": null,
      "outputs": []
    },
    {
      "cell_type": "markdown",
      "source": [
        "### Drop useless columns"
      ],
      "metadata": {
        "id": "5eIYHEeXdrRJ"
      }
    },
    {
      "cell_type": "markdown",
      "source": [
        "As you know, the PassengerId and Name of the Passenger do not affect the probability of survival. and ticket column does not have a clear relationship to the survival of passengers, so they will be dropped:"
      ],
      "metadata": {
        "id": "X033fm49eRXv"
      }
    },
    {
      "cell_type": "code",
      "source": [
        "############################\n",
        "#أكمل الكود\n",
        "#Complete the code\n",
        "############################\n",
        "\n",
        "# Drop the PassengerId and Name Columns from the dataset:\n",
        "\n",
        "\n",
        "cols = ['PassengerId', 'Name']\n",
        "data = data.drop(cols, axis=1)\n",
        "\n"
      ],
      "metadata": {
        "id": "Nccna9tNeJLj"
      },
      "execution_count": null,
      "outputs": []
    },
    {
      "cell_type": "code",
      "source": [
        "data.head()"
      ],
      "metadata": {
        "id": "BwfyG7HlgY49"
      },
      "execution_count": null,
      "outputs": []
    },
    {
      "cell_type": "markdown",
      "source": [
        "### Encode Categorical Columns"
      ],
      "metadata": {
        "id": "wCYDHp-UnNVi"
      }
    },
    {
      "cell_type": "markdown",
      "source": [
        "Sex and Embarked columns values are text, we can't give this text directly to the machine learning model, so we need to replace this text values to meaningful numerical values."
      ],
      "metadata": {
        "id": "j4rjNBNz0mbs"
      }
    },
    {
      "cell_type": "markdown",
      "source": [
        "In Age column we will replace all male values with 0 and all the female values with 1. <br>\n",
        "and we will do the same in Embarked column: S=> 0 , C=> 1, Q => 2"
      ],
      "metadata": {
        "id": "TtSc9JYq1Wp5"
      }
    },
    {
      "cell_type": "code",
      "source": [
        "data.replace({'Sex':{'male':0,'female':1},'Embarked':{'S':0,'C':1,'Q':2}}, inplace=True)"
      ],
      "metadata": {
        "id": "kKE48T_N2ae2"
      },
      "execution_count": null,
      "outputs": []
    },
    {
      "cell_type": "code",
      "source": [
        "data.head()"
      ],
      "metadata": {
        "id": "SW42UKZM3u3j"
      },
      "execution_count": null,
      "outputs": []
    },
    {
      "cell_type": "markdown",
      "source": [
        "### Dealing with Duplicates"
      ],
      "metadata": {
        "id": "n6pu3BImnKga"
      }
    },
    {
      "cell_type": "markdown",
      "source": [
        "Check if there are duplicates in the dataset:"
      ],
      "metadata": {
        "id": "Uw916gfCcl6i"
      }
    },
    {
      "cell_type": "code",
      "source": [
        "############################\n",
        "#أكمل الكود\n",
        "#Complete the code\n",
        "############################\n",
        "\n",
        "#check if there are duplicates in the dataset:\n",
        "\n",
        "duplicates = data[data.duplicated()]\n",
        "print(duplicates)"
      ],
      "metadata": {
        "id": "VQeshrmKnXzP"
      },
      "execution_count": null,
      "outputs": []
    },
    {
      "cell_type": "code",
      "source": [
        "############################\n",
        "#أكمل الكود\n",
        "#Complete the code\n",
        "############################\n",
        "\n",
        "#drop the duplicates:\n",
        "\n",
        "data = data.drop(duplicates, axis=1)\n",
        "\n"
      ],
      "metadata": {
        "id": "0YfhfO16nYza"
      },
      "execution_count": null,
      "outputs": []
    },
    {
      "cell_type": "markdown",
      "source": [
        "### Data Analysis"
      ],
      "metadata": {
        "id": "q3YTIyMFta2N"
      }
    },
    {
      "cell_type": "markdown",
      "source": [
        "In this section, we will explore the data and the relationships between features using statistical analysis and visualization techniques. This will help us understand the underlying patterns and correlations in the dataset, providing valuable insights for model building."
      ],
      "metadata": {
        "id": "pnaNxD4Oacgf"
      }
    },
    {
      "cell_type": "markdown",
      "source": [
        "describe() provides summary statistics for numerical columns, including count, mean, standard deviation, min, max, and quartiles. This function helps us understand the distribution and central tendencies of the data. However, in our Titanic dataset, while useful, it may not be the primary focus since many insights come from categorical features and their relationships with survival, which are better explored through other means."
      ],
      "metadata": {
        "id": "y-M0sYXQbb59"
      }
    },
    {
      "cell_type": "code",
      "source": [
        "data.describe()"
      ],
      "metadata": {
        "id": "voutv3mDamZY"
      },
      "execution_count": null,
      "outputs": []
    },
    {
      "cell_type": "markdown",
      "source": [
        "**Look for Correlations**"
      ],
      "metadata": {
        "id": "RAb-lwTSIes-"
      }
    },
    {
      "cell_type": "markdown",
      "source": [
        "Now to understand the relations between the features we can use the **correlation matrix** which shows the correlation coefficients between different features in a dataset. Each cell in the matrix represents the correlation between two features. The correlation coefficient ranges from **-1 to 1**, where:<br>\n",
        "\n",
        "1 indicates a perfect positive correlation: as one feature increases, the other feature increases proportionally. <br>\n",
        "\n",
        "-1 indicates a perfect negative correlation: as one feature increases, the other feature decreases proportionally.<br>\n",
        "\n",
        "0 indicates no correlation: the features do not show any linear relationship.<br>"
      ],
      "metadata": {
        "id": "7WhEpZ2FYMTp"
      }
    },
    {
      "cell_type": "code",
      "source": [
        "data.corr()['Survived']"
      ],
      "metadata": {
        "id": "EGhTRZYwYKm4"
      },
      "execution_count": null,
      "outputs": []
    },
    {
      "cell_type": "markdown",
      "source": [
        "The correlation values provide insights into how different features relate to the survival outcome in the Titanic dataset:\n",
        "\n",
        "* Pclass: Negative correlation (-0.338). Higher classes (lower number) are more\n",
        "likely to survive.\n",
        "* Sex: Positive correlation (0.543). Females are more likely to survive.\n",
        "* Age: Slight negative correlation (-0.070). Older passengers have a marginally lower chance of survival.\n",
        "* SibSp: Slight negative correlation (-0.035). Having more siblings/spouses aboard slightly decreases survival chances.\n",
        "* Parch: Slight positive correlation (0.082). Having more parents/children aboard slightly increases survival chances.\n",
        "* Fare: Positive correlation (0.257). Passengers who paid higher fares are more likely to survive.\n",
        "* Embarked: Slight positive correlation (0.107). The port of embarkation has a minor effect on survival.<br>\n",
        "These correlations help identify which features may be important for predicting survival."
      ],
      "metadata": {
        "id": "kM3jFWd1KEwA"
      }
    },
    {
      "cell_type": "code",
      "source": [
        "# to understand more about data lets find the number of people survived and not survived\n",
        "data['Survived'].value_counts()"
      ],
      "metadata": {
        "id": "vo9pUaoZtAdX"
      },
      "execution_count": null,
      "outputs": []
    },
    {
      "cell_type": "code",
      "source": [
        "# making a count plot for 'Survived' column\n",
        "sns.countplot(x='Survived', data=data)"
      ],
      "metadata": {
        "colab": {
          "base_uri": "https://localhost:8080/",
          "height": 466
        },
        "id": "ekL6bRX7thhb",
        "outputId": "f5f67534-8bb8-4dc7-bfed-5cc7660e3de4"
      },
      "execution_count": null,
      "outputs": [
        {
          "output_type": "execute_result",
          "data": {
            "text/plain": [
              "<Axes: xlabel='Survived', ylabel='count'>"
            ]
          },
          "metadata": {},
          "execution_count": 4
        },
        {
          "output_type": "display_data",
          "data": {
            "text/plain": [
              "<Figure size 640x480 with 1 Axes>"
            ],
            "image/png": "[encoded data removed]"
          },
          "metadata": {}
        }
      ]
    },
    {
      "cell_type": "code",
      "source": [
        "# making a count plot for 'Sex' column\n",
        "sns.countplot(x='Sex', data=data)"
      ],
      "metadata": {
        "colab": {
          "base_uri": "https://localhost:8080/",
          "height": 466
        },
        "id": "O2meIQ0Wt9Cx",
        "outputId": "c8cb2bc7-54ba-4bbb-c1c4-1e67ed6f9c5b"
      },
      "execution_count": null,
      "outputs": [
        {
          "output_type": "execute_result",
          "data": {
            "text/plain": [
              "<Axes: xlabel='Sex', ylabel='count'>"
            ]
          },
          "metadata": {},
          "execution_count": 31
        },
        {
          "output_type": "display_data",
          "data": {
            "text/plain": [
              "<Figure size 640x480 with 1 Axes>"
            ],
            "image/png": "[encoded data removed]"
          },
          "metadata": {}
        }
      ]
    },
    {
      "cell_type": "code",
      "source": [
        "# now lets compare the number of survived beasd on the gender\n",
        "sns.countplot(x='Sex', hue='Survived', data=data)"
      ],
      "metadata": {
        "colab": {
          "base_uri": "https://localhost:8080/",
          "height": 471
        },
        "id": "EP_gpydVuNnD",
        "outputId": "4896c83f-5810-45ba-869c-f140ddb978c3"
      },
      "execution_count": null,
      "outputs": [
        {
          "output_type": "execute_result",
          "data": {
            "text/plain": [
              "<Axes: xlabel='Sex', ylabel='count'>"
            ]
          },
          "metadata": {},
          "execution_count": 32
        },
        {
          "output_type": "display_data",
          "data": {
            "text/plain": [
              "<Figure size 640x480 with 1 Axes>"
            ],
            "image/png": "[encoded data removed]"
          },
          "metadata": {}
        }
      ]
    },
    {
      "cell_type": "markdown",
      "source": [
        "as we can see, even we have more number of male in our dataset, the number of fmale who have survived is more. this is one of the very important insight that we can get from this data."
      ],
      "metadata": {
        "id": "E7w3ebvyulnk"
      }
    },
    {
      "cell_type": "code",
      "source": [
        "# now lets compare the number of survived beasd on the Pclass\n",
        "sns.countplot(x='Pclass', hue='Survived', data=data)"
      ],
      "metadata": {
        "colab": {
          "base_uri": "https://localhost:8080/",
          "height": 466
        },
        "id": "RRCX5YNmvorg",
        "outputId": "7e6f07d2-06fa-450c-9b21-9015e3f9b19e"
      },
      "execution_count": null,
      "outputs": [
        {
          "output_type": "execute_result",
          "data": {
            "text/plain": [
              "<Axes: xlabel='Pclass', ylabel='count'>"
            ]
          },
          "metadata": {},
          "execution_count": 33
        },
        {
          "output_type": "display_data",
          "data": {
            "text/plain": [
              "<Figure size 640x480 with 1 Axes>"
            ],
            "image/png": "[encoded data removed]"
          },
          "metadata": {}
        }
      ]
    },
    {
      "cell_type": "markdown",
      "source": [
        "You can do the same for the other columns to get more insights about the dataset."
      ],
      "metadata": {
        "id": "OaUg5EiLvy6C"
      }
    },
    {
      "cell_type": "markdown",
      "source": [
        "## Model Building"
      ],
      "metadata": {
        "id": "x6uCf7_YToOC"
      }
    },
    {
      "cell_type": "markdown",
      "source": [
        "**Separating features & Target** <br><br>\n",
        "Separating features and target so that we can prepare the data for training machine learning models. In the Titanic dataset, the Survived column is the target variable, and the other columns are the features."
      ],
      "metadata": {
        "id": "RPhbd1yz39d7"
      }
    },
    {
      "cell_type": "code",
      "source": [
        "x = data.drop(columns = ['Survived'], axis=1)\n",
        "y = data['Survived']"
      ],
      "metadata": {
        "id": "Qcy9rZ7rVbYT"
      },
      "execution_count": null,
      "outputs": []
    },
    {
      "cell_type": "markdown",
      "source": [
        "**Splitting the data into training data & Testing data**"
      ],
      "metadata": {
        "id": "vQ3buMb94lEN"
      }
    },
    {
      "cell_type": "markdown",
      "source": [
        "To build and evaluate a machine learning model effectively, it's essential to split the dataset into training and testing sets. The training set is used to train the model, allowing it to learn patterns and relationships within the data. The testing set, on the other hand, is used to evaluate the model's performance on unseen data, ensuring it can generalize well to new instances. This split helps prevent overfitting and provides a reliable estimate of the model's predictive accuracy."
      ],
      "metadata": {
        "id": "glpNpipB5x1w"
      }
    },
    {
      "cell_type": "code",
      "source": [
        "############################\n",
        "#أكمل الكود\n",
        "#Complete the code\n",
        "############################\n",
        "\n",
        "from sklearn.model_selection import train_test_split\n",
        "\n",
        "# Split the data into training data & Testing data using train_test_split function :\n",
        "\n",
        "x_train, x_test, y_train, y_test = train_test_split(x, y, test_size=0.2, random_state=42)\n"
      ],
      "metadata": {
        "id": "DWbdHu7F41Vs"
      },
      "execution_count": null,
      "outputs": []
    },
    {
      "cell_type": "markdown",
      "source": [
        "**Model Training**"
      ],
      "metadata": {
        "id": "kIeZ7-K96jdG"
      }
    },
    {
      "cell_type": "markdown",
      "source": [
        "Model training is a crucial step in the machine learning where the algorithm learns from the training data to make predictions. **Logistic Regression** is a commonly used algorithm for binary classification tasks, such as predicting whether a passenger survived in the Titanic dataset. By training the model on our training data, we aim to find the best-fit parameters that minimize prediction errors. Once trained, this model can be used to predict outcomes on new, unseen data."
      ],
      "metadata": {
        "id": "-RaDgM7o6i4t"
      }
    },
    {
      "cell_type": "code",
      "source": [
        "############################\n",
        "#أكمل الكود\n",
        "#Complete the code\n",
        "############################\n",
        "\n",
        "from sklearn.linear_model import LogisticRegression\n",
        "\n",
        "# Create a Logistic Regression model and Train it on the training data:\n",
        "\n",
        "model = LogisticRegression()\n",
        "model.fit(x_train, y_train)\n",
        "\n"
      ],
      "metadata": {
        "id": "zJ5MmGR99Vsu"
      },
      "execution_count": null,
      "outputs": []
    },
    {
      "cell_type": "markdown",
      "source": [
        "## Model Evaluation"
      ],
      "metadata": {
        "id": "97DOY7s9VcOu"
      }
    },
    {
      "cell_type": "markdown",
      "source": [
        "Model evaluation is crucial in machine learning to assess the performance of a trained model on testing data. The **accuracy score**, a common evaluation metric, measures the proportion of correct predictions out of all predictions. This helps to gauge the model's effectiveness, ensure it generalizes well to new data, and guide further improvements."
      ],
      "metadata": {
        "id": "KkWFwbaNVgxO"
      }
    },
    {
      "cell_type": "code",
      "source": [
        "############################\n",
        "#أكمل الكود\n",
        "#Complete the code\n",
        "############################\n",
        "\n",
        "from sklearn.metrics import accuracy_score\n",
        "\n",
        "#first let the model predict x_test\n",
        "#then use accuracy score to see the accuracy of the model\n",
        "#finally print the Accuracy.\n",
        "\n",
        "y_pred = model.predict(x_test)\n",
        "accuracy = accuracy_score(y_test, y_pred)\n",
        "print(f'Accuracy: {accuracy}')\n"
      ],
      "metadata": {
        "id": "Zs86HiXNVgBz"
      },
      "execution_count": null,
      "outputs": []
    }
  ]
}